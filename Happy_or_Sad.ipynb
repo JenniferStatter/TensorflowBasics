{
  "nbformat": 4,
  "nbformat_minor": 0,
  "metadata": {
    "colab": {
      "name": "Happy or Sad.ipynb",
      "provenance": [],
      "authorship_tag": "ABX9TyP0ixF7f7voDAyQIIXxwOMy",
      "include_colab_link": true
    },
    "kernelspec": {
      "name": "python3",
      "display_name": "Python 3"
    },
    "language_info": {
      "name": "python"
    }
  },
  "cells": [
    {
      "cell_type": "markdown",
      "metadata": {
        "id": "view-in-github",
        "colab_type": "text"
      },
      "source": [
        "<a href=\"https://colab.research.google.com/github/JenniferStatter/TensorflowBasics/blob/main/Happy_or_Sad.ipynb\" target=\"_parent\"><img src=\"https://colab.research.google.com/assets/colab-badge.svg\" alt=\"Open In Colab\"/></a>"
      ]
    },
    {
      "cell_type": "code",
      "metadata": {
        "id": "2fjWLhL7FV2x"
      },
      "source": [
        "# This Code Block should Define and Compile the Model\n",
        "model = tf.keras.models.Sequential([\n",
        "    tf.keras.layers.Conv2D(64, (3,3), activation='relu', input_shape=(150, 150, 3)),\n",
        "    tf.keras.layers.MaxPooling2D(2, 2),\n",
        "    tf.keras.layers.Conv2D(64, (3,3), activation='relu'),\n",
        "    tf.keras.layers.MaxPooling2D(2, 2),\n",
        "    tf.keras.layers.Conv2D(64, (3,3), activation='relu'),\n",
        "    tf.keras.layers.MaxPooling2D(2, 2),\n",
        "    tf.keras.layers.Flatten(),\n",
        "    tf.keras.layers.Dense(128, activation='relu'),\n",
        "    tf.keras.layers.Dense(1, activation='sigmoid')\n",
        "])\n",
        "\n",
        "from tensorflow.keras.optimizers import RMSprop\n",
        "\n",
        "model.compile(loss='binary_crossentropy', optimizer='adam', metrics=['acc'])"
      ],
      "execution_count": 94,
      "outputs": []
    },
    {
      "cell_type": "code",
      "metadata": {
        "id": "l8zPwcmM2s56",
        "colab": {
          "base_uri": "https://localhost:8080/"
        },
        "outputId": "7a3e1eb0-383a-4cb7-ceeb-08a7590a63fc"
      },
      "source": [
        "import tensorflow as tf\n",
        "import os\n",
        "import zipfile\n",
        "\n",
        "DESIRED_ACCURACY =0.999\n",
        "\n",
        "!wget --no-check-certificate \\\n",
        "    \"https://storage.googleapis.com/laurencemoroney-blog.appspot.com/happy-or-sad.zip\" \\\n",
        "    -O \"/tmp/happy-or-sad.zip\"\n",
        "\n",
        "zip_ref = zipfile.ZipFile(\"/tmp/happy-or-sad.zip\", 'r')\n",
        "zip_ref.extractall(\"/tmp/h-or-s\")\n",
        "zip_ref.close()\n",
        "\n",
        "class myCallback(tf.keras.callbacks.Callback):\n",
        "  def on_epoch_end(self, epoch, logs={}):\n",
        "    if (logs.get('acc') > DESIRED_ACCURACY):\n",
        "      print('\\nReached 99.9% accuracy, so cancelling training...')\n",
        "      self.model.stop_training = True\n",
        "\n",
        "callbacks = myCallback()"
      ],
      "execution_count": 95,
      "outputs": [
        {
          "output_type": "stream",
          "text": [
            "--2021-05-25 03:32:20--  https://storage.googleapis.com/laurencemoroney-blog.appspot.com/happy-or-sad.zip\n",
            "Resolving storage.googleapis.com (storage.googleapis.com)... 173.194.215.128, 173.194.216.128, 173.194.217.128, ...\n",
            "Connecting to storage.googleapis.com (storage.googleapis.com)|173.194.215.128|:443... connected.\n",
            "HTTP request sent, awaiting response... 200 OK\n",
            "Length: 2670333 (2.5M) [application/zip]\n",
            "Saving to: ‘/tmp/happy-or-sad.zip’\n",
            "\n",
            "\r/tmp/happy-or-sad.z   0%[                    ]       0  --.-KB/s               \r/tmp/happy-or-sad.z 100%[===================>]   2.55M  --.-KB/s    in 0.01s   \n",
            "\n",
            "2021-05-25 03:32:20 (199 MB/s) - ‘/tmp/happy-or-sad.zip’ saved [2670333/2670333]\n",
            "\n"
          ],
          "name": "stdout"
        }
      ]
    },
    {
      "cell_type": "code",
      "metadata": {
        "colab": {
          "base_uri": "https://localhost:8080/"
        },
        "id": "2YNdJusMK5ku",
        "outputId": "d74d6904-32e2-4b98-db22-4c6db3ed5a57"
      },
      "source": [
        "# This code block should create an instance of an ImageDataGenerator called train_datagen\n",
        "# And a train_generator by calling train_datagen.flow_from_directory\n",
        "\n",
        "from tensorflow.keras.preprocessing.image import ImageDataGenerator\n",
        "\n",
        "train_datagen = ImageDataGenerator(rescale=1/255.0)\n",
        "\n",
        "train_generator = train_datagen.flow_from_directory(\n",
        "    '/tmp/h-or-s/',\n",
        "    target_size=(150,150),\n",
        "    batch_size=80,\n",
        "    class_mode='binary')\n",
        "# Expected output: 'Found 80 images belonging to two classes'"
      ],
      "execution_count": 96,
      "outputs": [
        {
          "output_type": "stream",
          "text": [
            "Found 80 images belonging to 2 classes.\n"
          ],
          "name": "stdout"
        }
      ]
    },
    {
      "cell_type": "code",
      "metadata": {
        "colab": {
          "base_uri": "https://localhost:8080/"
        },
        "id": "zSjcTlA2NiR0",
        "outputId": "f2df354d-4614-4c35-af56-16cbbb0ac7e1"
      },
      "source": [
        "# This code block should call model.fit_generator and train for\n",
        "# a number of epochs.\n",
        "history = model.fit_generator(\n",
        "    train_generator,\n",
        "    steps_per_epoch=1,\n",
        "    epochs=25,\n",
        "    verbose=1,\n",
        "    callbacks=[callbacks])\n",
        "# expected output: \"Reached 99.9% accuracy so cancelling training!\""
      ],
      "execution_count": 97,
      "outputs": [
        {
          "output_type": "stream",
          "text": [
            "/usr/local/lib/python3.7/dist-packages/tensorflow/python/keras/engine/training.py:1844: UserWarning: `Model.fit_generator` is deprecated and will be removed in a future version. Please use `Model.fit`, which supports generators.\n",
            "  warnings.warn('`Model.fit_generator` is deprecated and '\n"
          ],
          "name": "stderr"
        },
        {
          "output_type": "stream",
          "text": [
            "Epoch 1/25\n",
            "1/1 [==============================] - 4s 4s/step - loss: 0.6959 - acc: 0.5000\n",
            "Epoch 2/25\n",
            "1/1 [==============================] - 3s 3s/step - loss: 0.9196 - acc: 0.5000\n",
            "Epoch 3/25\n",
            "1/1 [==============================] - 3s 3s/step - loss: 0.7643 - acc: 0.5000\n",
            "Epoch 4/25\n",
            "1/1 [==============================] - 3s 3s/step - loss: 0.6939 - acc: 0.5000\n",
            "Epoch 5/25\n",
            "1/1 [==============================] - 3s 3s/step - loss: 0.6064 - acc: 0.5000\n",
            "Epoch 6/25\n",
            "1/1 [==============================] - 3s 3s/step - loss: 0.5443 - acc: 0.6625\n",
            "Epoch 7/25\n",
            "1/1 [==============================] - 3s 3s/step - loss: 0.4432 - acc: 0.9375\n",
            "Epoch 8/25\n",
            "1/1 [==============================] - 3s 3s/step - loss: 0.3368 - acc: 0.9375\n",
            "Epoch 9/25\n",
            "1/1 [==============================] - 3s 3s/step - loss: 0.2456 - acc: 0.9375\n",
            "Epoch 10/25\n",
            "1/1 [==============================] - 3s 3s/step - loss: 0.2115 - acc: 0.9250\n",
            "Epoch 11/25\n",
            "1/1 [==============================] - 3s 3s/step - loss: 0.4168 - acc: 0.7500\n",
            "Epoch 12/25\n",
            "1/1 [==============================] - 3s 3s/step - loss: 0.2345 - acc: 0.9125\n",
            "Epoch 13/25\n",
            "1/1 [==============================] - 3s 3s/step - loss: 0.3409 - acc: 0.9000\n",
            "Epoch 14/25\n",
            "1/1 [==============================] - 3s 3s/step - loss: 0.1817 - acc: 0.9250\n",
            "Epoch 15/25\n",
            "1/1 [==============================] - 3s 3s/step - loss: 0.1486 - acc: 0.9500\n",
            "Epoch 16/25\n",
            "1/1 [==============================] - 3s 3s/step - loss: 0.2332 - acc: 0.8875\n",
            "Epoch 17/25\n",
            "1/1 [==============================] - 3s 3s/step - loss: 0.1682 - acc: 0.9625\n",
            "Epoch 18/25\n",
            "1/1 [==============================] - 3s 3s/step - loss: 0.1289 - acc: 0.9500\n",
            "Epoch 19/25\n",
            "1/1 [==============================] - 3s 3s/step - loss: 0.1568 - acc: 0.9375\n",
            "Epoch 20/25\n",
            "1/1 [==============================] - 3s 3s/step - loss: 0.1720 - acc: 0.9250\n",
            "Epoch 21/25\n",
            "1/1 [==============================] - 3s 3s/step - loss: 0.1529 - acc: 0.9375\n",
            "Epoch 22/25\n",
            "1/1 [==============================] - 3s 3s/step - loss: 0.1219 - acc: 0.9375\n",
            "Epoch 23/25\n",
            "1/1 [==============================] - 3s 3s/step - loss: 0.1122 - acc: 0.9500\n",
            "Epoch 24/25\n",
            "1/1 [==============================] - 3s 3s/step - loss: 0.1269 - acc: 1.0000\n",
            "\n",
            "Reached 99.9% accuracy, so cancelling training...\n"
          ],
          "name": "stdout"
        }
      ]
    },
    {
      "cell_type": "code",
      "metadata": {
        "id": "RygHmxHseJPq"
      },
      "source": [
        "#import matplotlib.pyplot as plt\n",
        "#plt.imshow(training_images[0])\n",
        "#print(training_labels[0])\n",
        "#print(training_images[0])"
      ],
      "execution_count": null,
      "outputs": []
    },
    {
      "cell_type": "code",
      "metadata": {
        "id": "Vd-yF0w6iLhC"
      },
      "source": [
        "#@tf.function(input_signature=(tf.TensorSpec(shape=[None], dtype=tf.int32),))\n",
        "#def next_collatz(x):\n",
        "  #print(\"Tracing with\", x)\n",
        " # return tf.where(x % 2 == 0, x // 2, 3 * x + 1)\n",
        "\n"
      ],
      "execution_count": 98,
      "outputs": []
    },
    {
      "cell_type": "code",
      "metadata": {
        "colab": {
          "base_uri": "https://localhost:8080/"
        },
        "id": "EHz3GLuBPnoM",
        "outputId": "65e9a2ff-e240-4d32-c661-e14039ca258c"
      },
      "source": [
        "classifications = model.predict(train_generator)\n",
        "print(classifications[0])\n"
      ],
      "execution_count": 99,
      "outputs": [
        {
          "output_type": "stream",
          "text": [
            "WARNING:tensorflow:9 out of the last 18 calls to <function Model.make_predict_function.<locals>.predict_function at 0x7fdee155e170> triggered tf.function retracing. Tracing is expensive and the excessive number of tracings could be due to (1) creating @tf.function repeatedly in a loop, (2) passing tensors with different shapes, (3) passing Python objects instead of tensors. For (1), please define your @tf.function outside of the loop. For (2), @tf.function has experimental_relax_shapes=True option that relaxes argument shapes that can avoid unnecessary retracing. For (3), please refer to https://www.tensorflow.org/guide/function#controlling_retracing and https://www.tensorflow.org/api_docs/python/tf/function for  more details.\n",
            "[0.9753275]\n"
          ],
          "name": "stdout"
        }
      ]
    },
    {
      "cell_type": "code",
      "metadata": {
        "id": "9MBbvdoCSWhu"
      },
      "source": [
        "import numpy as np\n",
        "from google.colab import files\n",
        "from keras.preprocessing import image\n",
        "\n",
        "uploaded = files.upload()\n",
        "\n",
        "for fn in uploaded.keys():\n",
        " \n",
        "  # predicting images\n",
        "  path = '/content/' + fn\n",
        "  img = image.load_img(path, target_size=(150, 150))\n",
        "  x = image.img_to_array(img)\n",
        "  x = np.expand_dims(x, axis=0)\n",
        "\n",
        "  images = np.vstack([x])\n",
        "  classes = model.predict(images, batch_size=10)\n",
        "  print(classes[0])\n",
        "  if classes[0]>0.5:\n",
        "    print(fn + \" is happy\")\n",
        "  else:\n",
        "    print(fn + \" is sad\")"
      ],
      "execution_count": null,
      "outputs": []
    }
  ]
}